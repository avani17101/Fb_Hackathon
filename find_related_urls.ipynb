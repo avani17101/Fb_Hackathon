{
 "cells": [
  {
   "cell_type": "code",
   "execution_count": 16,
   "metadata": {},
   "outputs": [],
   "source": [
    "\n",
    "def find_related_urls(title,website):\n",
    "    \"\"\"\n",
    "    biggest innovation!\n",
    "    args: title of article\n",
    "    returns: links of  most related articles from trusted sources\n",
    "    \"\"\"\n",
    "    try: \n",
    "        from googlesearch import search \n",
    "    except ImportError:  \n",
    "        print(\"No module named 'google' found\") \n",
    "    \n",
    "    print(title)\n",
    "    related_urls = []\n",
    "    # to search \n",
    "    query1 = website + title\n",
    "    print(\"Sugesstion\")\n",
    "    for q in search(query1, tld=\"com\", num=10, stop=1, pause=2): \n",
    "        print(q)\n",
    "        related_urls.append(q)\n",
    "    return related_urls\n",
    "        "
   ]
  },
  {
   "cell_type": "code",
   "execution_count": 18,
   "metadata": {},
   "outputs": [
    {
     "name": "stdout",
     "output_type": "stream",
     "text": [
      "Helpline For depression\n",
      "Sugesstion\n",
      "https://www.vandrevalafoundation.com/\n"
     ]
    },
    {
     "data": {
      "text/plain": [
       "['https://www.vandrevalafoundation.com/']"
      ]
     },
     "execution_count": 18,
     "metadata": {},
     "output_type": "execute_result"
    }
   ],
   "source": [
    "# file = open(\"user_query.txt\") #file containes the topic user wants to read\n",
    "query = \"Helpline For depression\"\n",
    "find_related_urls(query,\"google\")"
   ]
  },
  {
   "cell_type": "code",
   "execution_count": 19,
   "metadata": {},
   "outputs": [
    {
     "name": "stdout",
     "output_type": "stream",
     "text": [
      "Funny meme\n",
      "Sugesstion\n",
      "https://in.pinterest.com/divabrendadouglas/funny-memes/\n"
     ]
    },
    {
     "data": {
      "text/plain": [
       "['https://in.pinterest.com/divabrendadouglas/funny-memes/']"
      ]
     },
     "execution_count": 19,
     "metadata": {},
     "output_type": "execute_result"
    }
   ],
   "source": [
    "query = \"Funny meme\"\n",
    "find_related_urls(query,\"https://images.google.com/\")"
   ]
  },
  {
   "cell_type": "code",
   "execution_count": 20,
   "metadata": {},
   "outputs": [
    {
     "name": "stdout",
     "output_type": "stream",
     "text": [
      "Depression yoga\n",
      "Sugesstion\n",
      "https://www.youtube.com/watch?v=Sxddnugwu-8\n"
     ]
    },
    {
     "data": {
      "text/plain": [
       "['https://www.youtube.com/watch?v=Sxddnugwu-8']"
      ]
     },
     "execution_count": 20,
     "metadata": {},
     "output_type": "execute_result"
    }
   ],
   "source": [
    "query = \"Depression yoga\"\n",
    "find_related_urls(query,\"youtube\")"
   ]
  }
 ],
 "metadata": {
  "kernelspec": {
   "display_name": "Python 3",
   "language": "python",
   "name": "python3"
  },
  "language_info": {
   "codemirror_mode": {
    "name": "ipython",
    "version": 3
   },
   "file_extension": ".py",
   "mimetype": "text/x-python",
   "name": "python",
   "nbconvert_exporter": "python",
   "pygments_lexer": "ipython3",
   "version": "3.7.3"
  }
 },
 "nbformat": 4,
 "nbformat_minor": 2
}
